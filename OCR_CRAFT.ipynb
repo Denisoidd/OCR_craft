{
  "nbformat": 4,
  "nbformat_minor": 0,
  "metadata": {
    "colab": {
      "name": "OCR_CRAFT.ipynb",
      "provenance": []
    },
    "kernelspec": {
      "name": "python3",
      "display_name": "Python 3"
    },
    "accelerator": "GPU"
  },
  "cells": [
    {
      "cell_type": "code",
      "metadata": {
        "colab": {
          "base_uri": "https://localhost:8080/"
        },
        "id": "G4r_lyh1HMe2",
        "outputId": "27a517b0-061f-4f7c-eae7-1f4916f49751"
      },
      "source": [
        "!rm -r OCR_craft/"
      ],
      "execution_count": 1,
      "outputs": [
        {
          "output_type": "stream",
          "text": [
            "rm: cannot remove 'OCR_craft/': No such file or directory\n"
          ],
          "name": "stdout"
        }
      ]
    },
    {
      "cell_type": "code",
      "metadata": {
        "colab": {
          "base_uri": "https://localhost:8080/"
        },
        "id": "4-9T8ORMF-Fv",
        "outputId": "03401df6-f016-470f-ec93-9a030fc1ee54"
      },
      "source": [
        "!git clone https://github.com/Denisoidd/OCR_craft"
      ],
      "execution_count": 2,
      "outputs": [
        {
          "output_type": "stream",
          "text": [
            "Cloning into 'OCR_craft'...\n",
            "remote: Enumerating objects: 140, done.\u001b[K\n",
            "remote: Total 140 (delta 0), reused 0 (delta 0), pack-reused 140\n",
            "Receiving objects: 100% (140/140), 80.62 MiB | 36.03 MiB/s, done.\n",
            "Resolving deltas: 100% (59/59), done.\n"
          ],
          "name": "stdout"
        }
      ]
    },
    {
      "cell_type": "code",
      "metadata": {
        "colab": {
          "base_uri": "https://localhost:8080/"
        },
        "id": "lFL_6BfFGJM6",
        "outputId": "bb6ce355-e077-4b09-9d1e-1a57691f72f9"
      },
      "source": [
        "%cd OCR_craft/"
      ],
      "execution_count": 3,
      "outputs": [
        {
          "output_type": "stream",
          "text": [
            "/content/OCR_craft\n"
          ],
          "name": "stdout"
        }
      ]
    },
    {
      "cell_type": "code",
      "metadata": {
        "colab": {
          "base_uri": "https://localhost:8080/"
        },
        "id": "TMigpav2HnE2",
        "outputId": "7aa7bb46-6b7a-44f1-dbef-a623e11b3200"
      },
      "source": [
        "!ls"
      ],
      "execution_count": 4,
      "outputs": [
        {
          "output_type": "stream",
          "text": [
            "basenet\t\t create_gt_map.py   file_utils.py  test.py\n",
            "combined_net.py  data\t\t    imgproc.py\t   train.py\n",
            "craft.py\t dataset_loader.py  map.py\t   transformers.py\n",
            "craft_utils.py\t experiments\t    refinenet.py   weights\n"
          ],
          "name": "stdout"
        }
      ]
    },
    {
      "cell_type": "code",
      "metadata": {
        "colab": {
          "base_uri": "https://localhost:8080/"
        },
        "id": "HwA8aeKyGRJe",
        "outputId": "02c809b6-6b7f-4050-b57d-ffd001c3eed3"
      },
      "source": [
        "!python3 test.py"
      ],
      "execution_count": 5,
      "outputs": [
        {
          "output_type": "stream",
          "text": [
            "Loading weights from checkpoint (weights/craft_mlt_25k.pth)\n",
            "Loading weights of refiner from checkpoint (experiments/experiment_10ep_16bs_105lr/refine_net.pth)\n",
            "Test image 1/22: data/1168-receipt.jpg\n",
            "Test image 2/22: data/1166-receipt.jpg\n",
            "Test image 3/22: data/r67.jpg\n",
            "Test image 4/22: data/1008-receipt.jpg\n",
            "Test image 5/22: data/1007-receipt.jpg\n",
            "Test image 6/22: data/r68.jpg\n",
            "Test image 7/22: data/1009-receipt.jpg\n",
            "Test image 8/22: data/1000-receipt.jpg\n",
            "Test image 9/22: data/r65.jpg\n",
            "Test image 10/22: data/1165-receipt.jpg\n",
            "Test image 11/22: data/1012-receipt.jpg\n",
            "Test image 12/22: data/1011-receipt.jpg\n",
            "Test image 13/22: data/1004-receipt.jpg\n",
            "Test image 14/22: data/r66.jpg\n",
            "Test image 15/22: data/r70.jpg\n",
            "Test image 16/22: data/1003-receipt.jpg\n",
            "Test image 17/22: data/1001-receipt.jpg\n",
            "Test image 18/22: data/1172-receipt.jpg\n",
            "Test image 19/22: data/1160-receipt.jpg\n",
            "Test image 20/22: data/1010-receipt.jpg\n",
            "Test image 21/22: data/r69.jpg\n",
            "Test image 22/22: data/1174-receipt.jpg\n",
            "elapsed time : 10.435622453689575s\n"
          ],
          "name": "stdout"
        }
      ]
    },
    {
      "cell_type": "code",
      "metadata": {
        "id": "LFyY0vsoHXZF"
      },
      "source": [
        ""
      ],
      "execution_count": null,
      "outputs": []
    }
  ]
}